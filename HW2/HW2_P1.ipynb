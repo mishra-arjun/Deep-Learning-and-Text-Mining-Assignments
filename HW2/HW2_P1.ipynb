{
 "cells": [
  {
   "cell_type": "markdown",
   "metadata": {},
   "source": [
    "## Question 1 - Recommender Systems"
   ]
  },
  {
   "cell_type": "code",
   "execution_count": 31,
   "metadata": {
    "collapsed": false,
    "scrolled": true
   },
   "outputs": [
    {
     "name": "stdout",
     "output_type": "stream",
     "text": [
      "         item_id  rating  timestamp\n",
      "user_id                            \n",
      "685           20      20         20\n",
      "475           20      20         20\n",
      "36            20      20         20\n",
      "732           20      20         20\n",
      "596           20      20         20 \n",
      " \n",
      "\n"
     ]
    },
    {
     "data": {
      "image/png": "[encoded data removed]",
      "text/plain": [
       "<matplotlib.figure.Figure at 0x160c9a0a5f8>"
      ]
     },
     "metadata": {},
     "output_type": "display_data"
    },
    {
     "name": "stdout",
     "output_type": "stream",
     "text": [
      "\n",
      "\n"
     ]
    },
    {
     "data": {
      "image/png": "[encoded data removed]",
      "text/plain": [
       "<matplotlib.figure.Figure at 0x160c9af5668>"
      ]
     },
     "metadata": {},
     "output_type": "display_data"
    }
   ],
   "source": [
    "# Required modules \n",
    "import numpy as np\n",
    "import pandas as pd\n",
    "import matplotlib.pyplot as plt\n",
    "%matplotlib inline\n",
    "\n",
    "# Reading in the MovieLens dataset\n",
    "\n",
    "# Reading the data from u.data\n",
    "movies = pd.read_csv('./ml-100k/u.data', \n",
    "                     sep='\\t', names = ['user_id', 'item_id', 'rating', 'timestamp'])\n",
    "\n",
    "# Looking and confirming the dataset\n",
    "\n",
    "# Checking if each user has atleast 20 reviews\n",
    "print(movies.groupby(\"user_id\").agg(\"count\").sort_values(by = \"item_id\", \n",
    "                                                         ascending = False).tail(), \"\\n\", \"\\n\")\n",
    "\n",
    "# Plotting the histograms\n",
    "\n",
    "# Checking the number of unique movies\n",
    "len(movies.item_id.unique()) # 1682 unique movies\n",
    "\n",
    "### Plotting histograms\n",
    "# We will group movies by the number of ratings they have received to plot the first \n",
    "mov_ratings = movies.groupby(\"item_id\").size()\n",
    "\n",
    "plt.hist(mov_ratings)\n",
    "plt.ylabel('Number of movies in a ratings group')\n",
    "plt.xlabel('Number of ratings')\n",
    "plt.title(\"Number of ratings for a movie\")\n",
    "plt.show()\n",
    "print(\"\\n\")\n",
    "\n",
    "# PLotting in a different manner\n",
    "usr_ratings = movies.groupby(\"user_id\").agg(\"count\")\n",
    "\n",
    "plt.hist(usr_ratings[\"timestamp\"])\n",
    "plt.ylabel('Number of movies in a ratings group')\n",
    "plt.xlabel('Number of ratings')\n",
    "plt.title(\"Number of ratings for a user\")\n",
    "plt.show()\n"
   ]
  },
  {
   "cell_type": "markdown",
   "metadata": {},
   "source": [
    "### Part 2 - Build a Recommender System"
   ]
  },
  {
   "cell_type": "code",
   "execution_count": 221,
   "metadata": {
    "collapsed": false,
    "scrolled": false
   },
   "outputs": [
    {
     "name": "stdout",
     "output_type": "stream",
     "text": [
      "Shape of A:  (943, 1680) \n",
      "\n",
      "Missing columns:  1581    1582.0\n",
      "1652    1653.0\n",
      "dtype: float32 \n",
      "\n",
      "Shape of A:  (943, 1682) \n",
      "\n",
      "Shape of A_test:  (943, 1682)\n"
     ]
    }
   ],
   "source": [
    "# Reading in the base and test datasets\n",
    "\n",
    "mov_base = pd.read_csv('./ml-100k/ua.base', \n",
    "                       sep='\\t', names = ['user_id', 'item_id', 'rating', 'timestamp'])\n",
    "\n",
    "mov_test = pd.read_csv('./ml-100k/ua.test', \n",
    "                       sep='\\t', names = ['user_id', 'item_id', 'rating', 'timestamp'])\n",
    "\n",
    "# Making the A matrix - User vs the rating for each movie where movies are columns\n",
    "A = mov_base.pivot(index='user_id', columns='item_id', values='rating')\n",
    "A = A.fillna(0)\n",
    "\n",
    "print(\"Shape of A: \", A.shape, \"\\n\")\n",
    "\n",
    "# There are two movie values missing\n",
    "rng = pd.Series(np.arange(1, 1683),dtype=np.float32)\n",
    "miss = rng[rng.isin(mov_base[\"item_id\"]) == False]\n",
    "print(\"Missing columns: \", miss, \"\\n\") #1582, 1653\n",
    "\n",
    "A[\"1582\"] = 0\n",
    "A[\"1653\"] = 0\n",
    "\n",
    "print(\"Shape of A: \", A.shape, \"\\n\")\n",
    "\n",
    "# Making a copy for later use\n",
    "A_orig = A.copy()\n",
    "\n",
    "# Making the A matrix for the test dataset\n",
    "# There will be missing movies in the test dataset as well so we will take care of that from the start\n",
    "item_id = (rng[rng.isin(mov_test[\"item_id\"]) == False]).reset_index()[0]\n",
    "rating = pd.Series(np.repeat(0, len(test_miss)))\n",
    "user_id = pd.Series(np.repeat(1, len(test_miss)))\n",
    "\n",
    "test_fake = pd.concat([user_id, item_id, rating], axis = 1).reset_index(drop = True)\n",
    "test_fake.columns = [\"user_id\", \"item_id\", \"rating\"]\n",
    "\n",
    "test_sub = mov_test[[\"user_id\", \"item_id\", \"rating\"]]\n",
    "test_sub = test_sub.append(test_fake)\n",
    "\n",
    "A_test = test_sub.pivot(index='user_id', columns='item_id', values='rating')\n",
    "A_test = A_test.fillna(0)\n",
    "print(\"Shape of A_test: \", A_test.shape)"
   ]
  },
  {
   "cell_type": "code",
   "execution_count": 185,
   "metadata": {
    "collapsed": false
   },
   "outputs": [],
   "source": [
    "# Initializing regularizers\n",
    "# lambda regularizer values\n",
    "l2 ,l3 = 25 , 10\n",
    "\n",
    "mu = A.as_matrix()[A != 0].mean().mean()\n",
    "\n",
    "# Now we will create bi, bu and bui matrices\n",
    "B = A.as_matrix().copy()\n",
    "\n",
    "B[B != 0] = B[B != 0] - mu\n",
    "bi = np.sum(B, axis = 0)/(l2 + (B != 0).sum(axis = 0))\n",
    "\n",
    "B = (B - bi) * ((B != 0) * 1)\n",
    "bu = np.sum(B, axis = 1)/(l3 + (B != 0).sum(axis = 1))\n",
    "\n",
    "# Making the bui matrix\n",
    "bui = np.full(A.shape, fill_value = mu)\n",
    "bui = bui + bi + np.tile(bu, (1682,1)).T\n"
   ]
  },
  {
   "cell_type": "code",
   "execution_count": 186,
   "metadata": {
    "collapsed": false
   },
   "outputs": [
    {
     "name": "stdout",
     "output_type": "stream",
     "text": [
      " The baseline recommender rmse is 0.9664317139846922\n"
     ]
    }
   ],
   "source": [
    "# RMSE for baseline\n",
    "A_t_mat = A_test.as_matrix()\n",
    "\n",
    "rmse_base = (np.sum(np.square(A_t_mat[A_t_mat != 0] - bui[A_t_mat != 0]))/np.sum(A_t_mat != 0))**0.5\n",
    "\n",
    "print(\" The baseline recommender rmse is {}\".format(rmse_base))"
   ]
  },
  {
   "cell_type": "markdown",
   "metadata": {},
   "source": [
    "### RMSE Plot per User"
   ]
  },
  {
   "cell_type": "code",
   "execution_count": 223,
   "metadata": {
    "collapsed": false,
    "scrolled": true
   },
   "outputs": [],
   "source": [
    "# First, we will calculate the average rating per user\n",
    "A[\"avg_rating\"] = np.mean(A[A!=0], axis = 1)\n",
    "\n",
    "# Creating 5 bins form the user ratings\n",
    "user_bins = np.histogram(A[\"avg_rating\"] , bins = 5)[1]\n",
    "\n",
    "bin_labels = [\"Lowest\", \"Low\", \"Average\", \"Good\", \"Very Good\"]\n",
    "\n",
    "A['categories'] = pd.cut(A['avg_rating'], user_bins, labels = bin_labels)"
   ]
  },
  {
   "cell_type": "code",
   "execution_count": 205,
   "metadata": {
    "collapsed": false
   },
   "outputs": [],
   "source": [
    "# Making a bui dataframe with index\n",
    "bui_df = pd.DataFrame(bui)\n",
    "bui_df = bui_df.set_index(np.arange(1, 944))"
   ]
  },
  {
   "cell_type": "code",
   "execution_count": 214,
   "metadata": {
    "collapsed": false
   },
   "outputs": [],
   "source": [
    "lowest_ids = A[A[\"categories\"] == \"Lowest\"].index.values\n",
    "test1 = A_test.loc[lowest_ids].as_matrix()\n",
    "bui1 = bui_df.loc[lowest_ids].as_matrix()\n",
    "rmse1 = (np.sum(np.square(test1[test1 != 0] - bui1[test1 != 0]))/np.sum(test1 != 0))**0.5\n",
    "\n",
    "low_ids = A[A[\"categories\"] == \"Low\"].index.values\n",
    "test2 = A_test.loc[low_ids].as_matrix()\n",
    "bui2 = bui_df.loc[low_ids].as_matrix()\n",
    "rmse2 = (np.sum(np.square(test2[test2 != 0] - bui2[test2 != 0]))/np.sum(test2 != 0))**0.5\n",
    "\n",
    "avg_ids = A[A[\"categories\"] == \"Average\"].index.values\n",
    "test3 = A_test.loc[avg_ids].as_matrix()\n",
    "bui3 = bui_df.loc[avg_ids].as_matrix()\n",
    "rmse3 = (np.sum(np.square(test3[test3 != 0] - bui3[test3 != 0]))/np.sum(test3 != 0))**0.5\n",
    "\n",
    "good_ids = A[A[\"categories\"] == \"Good\"].index.values\n",
    "test4 = A_test.loc[good_ids].as_matrix()\n",
    "bui4 = bui_df.loc[good_ids].as_matrix()\n",
    "rmse4 = (np.sum(np.square(test4[test4 != 0] - bui4[test4 != 0]))/np.sum(test4 != 0))**0.5\n",
    "\n",
    "vgood_ids = A[A[\"categories\"] == \"Very Good\"].index.values\n",
    "test5 = A_test.loc[vgood_ids].as_matrix()\n",
    "bui5 = bui_df.loc[vgood_ids].as_matrix()\n",
    "rmse5 = (np.sum(np.square(test5[test5 != 0] - bui5[test5 != 0]))/np.sum(test5 != 0))**0.5\n",
    "\n",
    "rmse_array = np.array([rmse1, rmse2, rmse3, rmse4, rmse5])\n",
    "                      "
   ]
  },
  {
   "cell_type": "code",
   "execution_count": 216,
   "metadata": {
    "collapsed": false
   },
   "outputs": [
    {
     "data": {
      "image/png": "[encoded data removed]",
      "text/plain": [
       "<matplotlib.figure.Figure at 0x160c9a69470>"
      ]
     },
     "metadata": {},
     "output_type": "display_data"
    }
   ],
   "source": [
    "width = 1/1.5\n",
    "plt.bar(range(len(bin_labels)), rmse_array, width, color=\"green\", align = \"center\")\n",
    "plt.xticks(range(len(bin_labels)), bin_labels)\n",
    "plt.ylabel('RMSE')\n",
    "plt.xlabel('Bin Label')\n",
    "plt.show()"
   ]
  },
  {
   "cell_type": "markdown",
   "metadata": {},
   "source": [
    "#### It is clear from the plot that different bins have a different rmse. There is almost a steady decrease in the RMSE as we move from low rating users to high rating users. This tells us that our recommendation engine works well on users with high rating users. This makes perfect intuitive sense as the users who have rated the movies high will have a better chance of seeing the movie that we recommend them based on that rating. Users that rarely like any movie will have a high chance of not liking the movie we recommend them too. "
   ]
  },
  {
   "cell_type": "markdown",
   "metadata": {},
   "source": [
    "## Recommender System based on item similarity"
   ]
  },
  {
   "cell_type": "code",
   "execution_count": 257,
   "metadata": {
    "collapsed": false,
    "scrolled": true
   },
   "outputs": [],
   "source": [
    "# We will start by creating an empty similarity matrix\n",
    "\n",
    "A_mat = A_orig.as_matrix()\n",
    "sim_matrix = np.empty(shape = (A_mat.shape[1],A_mat.shape[1]))\n",
    "\n",
    "# Making an array for the average user rating\n",
    "avg_rating = np.array(A[\"avg_rating\"])\n",
    "\n",
    "# As the matrix is similar, we can only create half of the matrix\n",
    "\n",
    "for row in list(range(0, A_mat.shape[1] - 1)):\n",
    "    for col in list(range(row+1 , A_mat.shape[1])):\n",
    "        \n",
    "        common = A_mat[:,[row,col]][(A_mat[:,row] != 0) & (A_mat[:,col] != 0)]\n",
    "        \n",
    "        if common.size:\n",
    "            ru1 = common[:,0] - avg_rating[(A_mat[:,row] != 0) & (A_mat[:,col] != 0)]\n",
    "            ru2 = common[:,1] - avg_rating[(A_mat[:,row] != 0) & (A_mat[:,col] != 0)]\n",
    "            sim_matrix[row,col] = np.sum(np.multiply(ru1 ,ru2))/ np.sqrt((np.sum(ru1 ** 2) * np.sum(ru2 ** 2)))\n",
    "        else:\n",
    "            # For no common users between (i1,i2), we set the similarity value to zero\n",
    "            sim_matrix[row,col] = 0\n",
    "\n",
    "\n",
    "# Setting the NAN values to 1\n",
    "sim_matrix[np.isnan(sim_matrix)]=1\n",
    "np.fill_diagonal(sim_matrix,1)\n",
    "\n",
    "# Filling up the whole matrix\n",
    "lower_indices = np.tril_indices(A.shape[0], -1)\n",
    "sim_matrix[lower_indices] = sim_matrix.T[lower_indices]\n"
   ]
  },
  {
   "cell_type": "markdown",
   "metadata": {},
   "source": [
    "### Running the KNN algorithm using the similarity matrix"
   ]
  },
  {
   "cell_type": "markdown",
   "metadata": {},
   "source": [
    "### K = 1"
   ]
  },
  {
   "cell_type": "code",
   "execution_count": 390,
   "metadata": {
    "collapsed": false
   },
   "outputs": [],
   "source": [
    "# Getting non zero elements from the test set on which we have to make the predictions\n",
    "\n",
    "def knn_pred(k):\n",
    "    rows = np.nonzero(A_t_mat)[0]\n",
    "    columns = np.nonzero(A_t_mat)[1]\n",
    "    non_zero = zip(rows, columns)\n",
    "\n",
    "    A_t_pred = np.zeros_like(A_t_mat)\n",
    "    \n",
    "    for user, movie in non_zero:\n",
    "        # Similarity sorting of elements\n",
    "        cols_train = np.nonzero(A_orig.as_matrix()[user, :])[0]\n",
    "        cols_train = cols_train[cols_train != movie]\n",
    "        sim_order = cols_train[np.argsort(sim_matrix[movie, cols_train])[::-1]]\n",
    "\n",
    "        # Getting the k similar movies already watched by that user, leaving the movie itself\n",
    "        sim_mov = sim_order[0:k]\n",
    "        \n",
    "        #Getting the distances for weighting\n",
    "        sim_distances = np.sort(sim_matrix[movie, cols_train])[::-1][0:k]\n",
    "\n",
    "        A_t_pred[user, movie] = np.sum(np.multiply(A_orig.as_matrix()[user, sim_mov], sim_distances))/np.sum(np.absolute(sim_distances))\n",
    "\n",
    "        if np.isnan(A_t_pred[user, movie]):\n",
    "            A_t_pred[user, movie] = np.mean(A_orig.as_matrix()[user,:][A_orig.as_matrix()[user,:] != 0])\n",
    "        \n",
    "    return A_t_pred\n",
    "\n",
    "k1_mat = knn_pred(1)"
   ]
  },
  {
   "cell_type": "code",
   "execution_count": 391,
   "metadata": {
    "collapsed": false,
    "scrolled": true
   },
   "outputs": [
    {
     "name": "stdout",
     "output_type": "stream",
     "text": [
      " The rmse for k = 1 is 1.36753522916\n"
     ]
    }
   ],
   "source": [
    "rmse = (np.sum(np.square(A_t_mat[A_t_mat != 0] - k1_mat[A_t_mat != 0]))/np.sum(A_t_mat != 0))**0.5\n",
    "print(\" The rmse for k =\", 1, \"is\", rmse)"
   ]
  },
  {
   "cell_type": "code",
   "execution_count": 392,
   "metadata": {
    "collapsed": true
   },
   "outputs": [],
   "source": [
    "k1_mat = pd.DataFrame(k1_mat)\n",
    "k1_mat = k1_mat.set_index(np.arange(1, 944))\n",
    "\n",
    "\n",
    "k1_mat1 = k1_mat.loc[lowest_ids].as_matrix()\n",
    "rmse1 = (np.sum(np.square(test1[test1 != 0] - k1_mat1[test1 != 0]))/np.sum(test1 != 0))**0.5\n",
    "\n",
    "k1_mat2 = k1_mat.loc[low_ids].as_matrix()\n",
    "rmse2 = (np.sum(np.square(test2[test2 != 0] - k1_mat2[test2 != 0]))/np.sum(test2 != 0))**0.5\n",
    "\n",
    "k1_mat3 = k1_mat.loc[avg_ids].as_matrix()\n",
    "rmse3 = (np.sum(np.square(test3[test3 != 0] - k1_mat3[test3 != 0]))/np.sum(test3 != 0))**0.5\n",
    "\n",
    "k1_mat4 = k1_mat.loc[good_ids].as_matrix()\n",
    "rmse4 = (np.sum(np.square(test4[test4 != 0] - k1_mat4[test4 != 0]))/np.sum(test4 != 0))**0.5\n",
    "\n",
    "k1_mat5 = k1_mat.loc[vgood_ids].as_matrix()\n",
    "rmse5 = (np.sum(np.square(test5[test5 != 0] - k1_mat5[test5 != 0]))/np.sum(test5 != 0))**0.5\n",
    "\n",
    "rmse_array = np.array([rmse1, rmse2, rmse3, rmse4, rmse5])"
   ]
  },
  {
   "cell_type": "code",
   "execution_count": null,
   "metadata": {
    "collapsed": true
   },
   "outputs": [],
   "source": [
    "rmse_array"
   ]
  },
  {
   "cell_type": "code",
   "execution_count": 394,
   "metadata": {
    "collapsed": false
   },
   "outputs": [
    {
     "data": {
      "image/png": "[encoded data removed]",
      "text/plain": [
       "<matplotlib.figure.Figure at 0x160c99898d0>"
      ]
     },
     "metadata": {},
     "output_type": "display_data"
    }
   ],
   "source": [
    "width = 1/1.5\n",
    "plt.bar(range(len(bin_labels)), rmse_array, width, color=\"green\", align = \"center\")\n",
    "plt.xticks(range(len(bin_labels)), bin_labels)\n",
    "plt.ylabel('RMSE')\n",
    "plt.xlabel('Bin Label')\n",
    "plt.show()"
   ]
  },
  {
   "cell_type": "markdown",
   "metadata": {},
   "source": [
    "### K = 2"
   ]
  },
  {
   "cell_type": "code",
   "execution_count": 395,
   "metadata": {
    "collapsed": false
   },
   "outputs": [
    {
     "name": "stdout",
     "output_type": "stream",
     "text": [
      " The rmse for k = 2 is 1.18837089245\n"
     ]
    }
   ],
   "source": [
    "k2_mat = knn_pred(2)\n",
    "rmse = (np.sum(np.square(A_t_mat[A_t_mat != 0] - k2_mat[A_t_mat != 0]))/np.sum(A_t_mat != 0))**0.5\n",
    "print(\" The rmse for k =\", 2, \"is\", rmse)"
   ]
  },
  {
   "cell_type": "code",
   "execution_count": 396,
   "metadata": {
    "collapsed": true
   },
   "outputs": [],
   "source": [
    "k2_mat = pd.DataFrame(k2_mat)\n",
    "k2_mat = k2_mat.set_index(np.arange(1, 944))\n",
    "\n",
    "\n",
    "k2_mat1 = k2_mat.loc[lowest_ids].as_matrix()\n",
    "rmse1 = (np.sum(np.square(test1[test1 != 0] - k2_mat1[test1 != 0]))/np.sum(test1 != 0))**0.5\n",
    "\n",
    "k2_mat2 = k2_mat.loc[low_ids].as_matrix()\n",
    "rmse2 = (np.sum(np.square(test2[test2 != 0] - k2_mat2[test2 != 0]))/np.sum(test2 != 0))**0.5\n",
    "\n",
    "k2_mat3 = k2_mat.loc[avg_ids].as_matrix()\n",
    "rmse3 = (np.sum(np.square(test3[test3 != 0] - k2_mat3[test3 != 0]))/np.sum(test3 != 0))**0.5\n",
    "\n",
    "k2_mat4 = k2_mat.loc[good_ids].as_matrix()\n",
    "rmse4 = (np.sum(np.square(test4[test4 != 0] - k2_mat4[test4 != 0]))/np.sum(test4 != 0))**0.5\n",
    "\n",
    "k2_mat5 = k2_mat.loc[vgood_ids].as_matrix()\n",
    "rmse5 = (np.sum(np.square(test5[test5 != 0] - k2_mat5[test5 != 0]))/np.sum(test5 != 0))**0.5\n",
    "\n",
    "rmse_array = np.array([rmse1, rmse2, rmse3, rmse4, rmse5])"
   ]
  },
  {
   "cell_type": "code",
   "execution_count": 398,
   "metadata": {
    "collapsed": false
   },
   "outputs": [
    {
     "data": {
      "text/plain": [
       "array([ 1.40528083,  1.42885905,  1.25283004,  1.13082732,  0.98675052])"
      ]
     },
     "execution_count": 398,
     "metadata": {},
     "output_type": "execute_result"
    }
   ],
   "source": [
    "rmse_array"
   ]
  },
  {
   "cell_type": "code",
   "execution_count": 397,
   "metadata": {
    "collapsed": false
   },
   "outputs": [
    {
     "data": {
      "image/png": "[encoded data removed]",
      "text/plain": [
       "<matplotlib.figure.Figure at 0x160c9989550>"
      ]
     },
     "metadata": {},
     "output_type": "display_data"
    }
   ],
   "source": [
    "width = 1/1.5\n",
    "plt.bar(range(len(bin_labels)), rmse_array, width, color=\"green\", align = \"center\")\n",
    "plt.xticks(range(len(bin_labels)), bin_labels)\n",
    "plt.ylabel('RMSE')\n",
    "plt.xlabel('Bin Label')\n",
    "plt.show()"
   ]
  },
  {
   "cell_type": "markdown",
   "metadata": {},
   "source": [
    "### k = 3"
   ]
  },
  {
   "cell_type": "code",
   "execution_count": 413,
   "metadata": {
    "collapsed": false
   },
   "outputs": [
    {
     "name": "stdout",
     "output_type": "stream",
     "text": [
      " The rmse for k = 3 is 1.12126507806\n"
     ]
    }
   ],
   "source": [
    "k3_mat = knn_pred(3)\n",
    "rmse = (np.sum(np.square(A_t_mat[A_t_mat != 0] - k3_mat[A_t_mat != 0]))/np.sum(A_t_mat != 0))**0.5\n",
    "print(\" The rmse for k =\", 3, \"is\", rmse)"
   ]
  },
  {
   "cell_type": "code",
   "execution_count": 414,
   "metadata": {
    "collapsed": true
   },
   "outputs": [],
   "source": [
    "k3_mat = pd.DataFrame(k3_mat)\n",
    "k3_mat = k3_mat.set_index(np.arange(1, 944))\n",
    "\n",
    "\n",
    "k3_mat1 = k3_mat.loc[lowest_ids].as_matrix()\n",
    "rmse1 = (np.sum(np.square(test1[test1 != 0] - k3_mat1[test1 != 0]))/np.sum(test1 != 0))**0.5\n",
    "\n",
    "k3_mat2 = k3_mat.loc[low_ids].as_matrix()\n",
    "rmse2 = (np.sum(np.square(test2[test2 != 0] - k3_mat2[test2 != 0]))/np.sum(test2 != 0))**0.5\n",
    "\n",
    "k3_mat3 = k3_mat.loc[avg_ids].as_matrix()\n",
    "rmse3 = (np.sum(np.square(test3[test3 != 0] - k3_mat3[test3 != 0]))/np.sum(test3 != 0))**0.5\n",
    "\n",
    "k3_mat4 = k3_mat.loc[good_ids].as_matrix()\n",
    "rmse4 = (np.sum(np.square(test4[test4 != 0] - k3_mat4[test4 != 0]))/np.sum(test4 != 0))**0.5\n",
    "\n",
    "k3_mat5 = k3_mat.loc[vgood_ids].as_matrix()\n",
    "rmse5 = (np.sum(np.square(test5[test5 != 0] - k3_mat5[test5 != 0]))/np.sum(test5 != 0))**0.5\n",
    "\n",
    "rmse_array = np.array([rmse1, rmse2, rmse3, rmse4, rmse5])"
   ]
  },
  {
   "cell_type": "code",
   "execution_count": 415,
   "metadata": {
    "collapsed": false
   },
   "outputs": [
    {
     "data": {
      "text/plain": [
       "array([ 1.36900222,  1.35645387,  1.16873985,  1.07600116,  0.93807074])"
      ]
     },
     "execution_count": 415,
     "metadata": {},
     "output_type": "execute_result"
    }
   ],
   "source": [
    "rmse_array"
   ]
  },
  {
   "cell_type": "code",
   "execution_count": 416,
   "metadata": {
    "collapsed": false
   },
   "outputs": [
    {
     "data": {
      "image/png": "[encoded data removed]",
      "text/plain": [
       "<matplotlib.figure.Figure at 0x160c9b076d8>"
      ]
     },
     "metadata": {},
     "output_type": "display_data"
    }
   ],
   "source": [
    "width = 1/1.5\n",
    "plt.bar(range(len(bin_labels)), rmse_array, width, color=\"green\", align = \"center\")\n",
    "plt.xticks(range(len(bin_labels)), bin_labels)\n",
    "plt.ylabel('RMSE')\n",
    "plt.xlabel('Bin Label')\n",
    "plt.show()"
   ]
  },
  {
   "cell_type": "markdown",
   "metadata": {},
   "source": [
    "### k = 5"
   ]
  },
  {
   "cell_type": "code",
   "execution_count": 417,
   "metadata": {
    "collapsed": false
   },
   "outputs": [
    {
     "name": "stdout",
     "output_type": "stream",
     "text": [
      " The rmse for k = 3 is 1.07781361316\n"
     ]
    }
   ],
   "source": [
    "k5_mat = knn_pred(5)\n",
    "rmse = (np.sum(np.square(A_t_mat[A_t_mat != 0] - k5_mat[A_t_mat != 0]))/np.sum(A_t_mat != 0))**0.5\n",
    "print(\" The rmse for k =\", 3, \"is\", rmse)"
   ]
  },
  {
   "cell_type": "code",
   "execution_count": 418,
   "metadata": {
    "collapsed": true
   },
   "outputs": [],
   "source": [
    "k5_mat = pd.DataFrame(k5_mat)\n",
    "k5_mat = k5_mat.set_index(np.arange(1, 944))\n",
    "\n",
    "\n",
    "k5_mat1 = k5_mat.loc[lowest_ids].as_matrix()\n",
    "rmse1 = (np.sum(np.square(test1[test1 != 0] - k5_mat1[test1 != 0]))/np.sum(test1 != 0))**0.5\n",
    "\n",
    "k5_mat2 = k5_mat.loc[low_ids].as_matrix()\n",
    "rmse2 = (np.sum(np.square(test2[test2 != 0] - k5_mat2[test2 != 0]))/np.sum(test2 != 0))**0.5\n",
    "\n",
    "k5_mat3 = k5_mat.loc[avg_ids].as_matrix()\n",
    "rmse3 = (np.sum(np.square(test3[test3 != 0] - k5_mat3[test3 != 0]))/np.sum(test3 != 0))**0.5\n",
    "\n",
    "k5_mat4 = k5_mat.loc[good_ids].as_matrix()\n",
    "rmse4 = (np.sum(np.square(test4[test4 != 0] - k5_mat4[test4 != 0]))/np.sum(test4 != 0))**0.5\n",
    "\n",
    "k5_mat5 = k5_mat.loc[vgood_ids].as_matrix()\n",
    "rmse5 = (np.sum(np.square(test5[test5 != 0] - k5_mat5[test5 != 0]))/np.sum(test5 != 0))**0.5\n",
    "\n",
    "rmse_array = np.array([rmse1, rmse2, rmse3, rmse4, rmse5])"
   ]
  },
  {
   "cell_type": "code",
   "execution_count": 419,
   "metadata": {
    "collapsed": false
   },
   "outputs": [
    {
     "data": {
      "text/plain": [
       "array([ 1.38754783,  1.33932335,  1.1088744 ,  1.0390081 ,  0.92095547])"
      ]
     },
     "execution_count": 419,
     "metadata": {},
     "output_type": "execute_result"
    }
   ],
   "source": [
    "rmse_array"
   ]
  },
  {
   "cell_type": "code",
   "execution_count": 420,
   "metadata": {
    "collapsed": false
   },
   "outputs": [
    {
     "data": {
      "image/png": "[encoded data removed]",
      "text/plain": [
       "<matplotlib.figure.Figure at 0x160ec5bef98>"
      ]
     },
     "metadata": {},
     "output_type": "display_data"
    }
   ],
   "source": [
    "width = 1/1.5\n",
    "plt.bar(range(len(bin_labels)), rmse_array, width, color=\"green\", align = \"center\")\n",
    "plt.xticks(range(len(bin_labels)), bin_labels)\n",
    "plt.ylabel('RMSE')\n",
    "plt.xlabel('Bin Label')\n",
    "plt.show()"
   ]
  },
  {
   "cell_type": "markdown",
   "metadata": {},
   "source": [
    "### k = 10"
   ]
  },
  {
   "cell_type": "code",
   "execution_count": 421,
   "metadata": {
    "collapsed": false
   },
   "outputs": [
    {
     "name": "stdout",
     "output_type": "stream",
     "text": [
      " The rmse for k = 3 is 1.31937657716\n"
     ]
    }
   ],
   "source": [
    "k10_mat = knn_pred(10)\n",
    "rmse = (np.sum(np.square(A_t_mat[A_t_mat != 0] - k10_mat[A_t_mat != 0]))/np.sum(A_t_mat != 0))**0.5\n",
    "print(\" The rmse for k =\", 3, \"is\", rmse)"
   ]
  },
  {
   "cell_type": "code",
   "execution_count": 422,
   "metadata": {
    "collapsed": true
   },
   "outputs": [],
   "source": [
    "k10_mat = pd.DataFrame(k10_mat)\n",
    "k10_mat = k10_mat.set_index(np.arange(1, 944))\n",
    "\n",
    "\n",
    "k10_mat1 = k10_mat.loc[lowest_ids].as_matrix()\n",
    "rmse1 = (np.sum(np.square(test1[test1 != 0] - k10_mat1[test1 != 0]))/np.sum(test1 != 0))**0.5\n",
    "\n",
    "k10_mat2 = k10_mat.loc[low_ids].as_matrix()\n",
    "rmse2 = (np.sum(np.square(test2[test2 != 0] - k10_mat2[test2 != 0]))/np.sum(test2 != 0))**0.5\n",
    "\n",
    "k10_mat3 = k10_mat.loc[avg_ids].as_matrix()\n",
    "rmse3 = (np.sum(np.square(test3[test3 != 0] - k10_mat3[test3 != 0]))/np.sum(test3 != 0))**0.5\n",
    "\n",
    "k10_mat4 = k10_mat.loc[good_ids].as_matrix()\n",
    "rmse4 = (np.sum(np.square(test4[test4 != 0] - k10_mat4[test4 != 0]))/np.sum(test4 != 0))**0.5\n",
    "\n",
    "k10_mat5 = k10_mat.loc[vgood_ids].as_matrix()\n",
    "rmse5 = (np.sum(np.square(test5[test5 != 0] - k10_mat5[test5 != 0]))/np.sum(test5 != 0))**0.5\n",
    "\n",
    "rmse_array = np.array([rmse1, rmse2, rmse3, rmse4, rmse5])"
   ]
  },
  {
   "cell_type": "code",
   "execution_count": 423,
   "metadata": {
    "collapsed": false
   },
   "outputs": [
    {
     "data": {
      "text/plain": [
       "array([ 1.62898017,  1.85486395,  1.29566695,  1.21674056,  1.66582259])"
      ]
     },
     "execution_count": 423,
     "metadata": {},
     "output_type": "execute_result"
    }
   ],
   "source": [
    "rmse_array"
   ]
  },
  {
   "cell_type": "code",
   "execution_count": 424,
   "metadata": {
    "collapsed": false
   },
   "outputs": [
    {
     "data": {
      "image/png": "[encoded data removed]",
      "text/plain": [
       "<matplotlib.figure.Figure at 0x160c9954cc0>"
      ]
     },
     "metadata": {},
     "output_type": "display_data"
    }
   ],
   "source": [
    "width = 1/1.5\n",
    "plt.bar(range(len(bin_labels)), rmse_array, width, color=\"green\", align = \"center\")\n",
    "plt.xticks(range(len(bin_labels)), bin_labels)\n",
    "plt.ylabel('RMSE')\n",
    "plt.xlabel('Bin Label')\n",
    "plt.show()"
   ]
  },
  {
   "cell_type": "markdown",
   "metadata": {},
   "source": [
    "### With most of the k values, we see the same trend as the baseline recommender system - the RMSE is higher for low rating user bins and lower for high rating bins. On average the lowest value of rmse is for k = 5 and thus, this could be our most optimal value of k for our data. We also observe that choosing different k values changes the performance for predicting the ratings of our 5 bins. In terms of using all our predictions, we could tailor our selection for k if we want to give a certain bin more importance. We could also take a weighted average of all our predictions and use the averages to make our predictions.\n",
    "### Our predictions also make sense - using 10 nearest neighbours is a large number as some points which aren't very similar will also be included. On the other hand, 1, 2 and 3 are too few neighbours to get a reasonable average of the user's behavior. Thus 5 hits a sweet spot for us."
   ]
  }
 ],
 "metadata": {
  "anaconda-cloud": {},
  "kernelspec": {
   "display_name": "Python [Root]",
   "language": "python",
   "name": "Python [Root]"
  },
  "language_info": {
   "codemirror_mode": {
    "name": "ipython",
    "version": 3
   },
   "file_extension": ".py",
   "mimetype": "text/x-python",
   "name": "python",
   "nbconvert_exporter": "python",
   "pygments_lexer": "ipython3",
   "version": "3.5.2"
  }
 },
 "nbformat": 4,
 "nbformat_minor": 0
}
